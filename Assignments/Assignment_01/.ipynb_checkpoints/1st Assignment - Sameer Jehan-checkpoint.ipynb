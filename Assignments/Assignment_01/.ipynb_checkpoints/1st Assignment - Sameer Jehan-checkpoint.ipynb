{
 "cells": [
  {
   "cell_type": "markdown",
   "id": "c9b438c4",
   "metadata": {},
   "source": [
    "# Q1. Write a Python program to print the following string in a specific format (see the output)."
   ]
  },
  {
   "cell_type": "raw",
   "id": "b823a70b",
   "metadata": {},
   "source": [
    "Twinkle, twinkle, little star, How I wonder what you are! Up above the world so high, Like a diamond in the sky. Twinkle, twinkle, little star, How I wonder what you are"
   ]
  },
  {
   "cell_type": "code",
   "execution_count": 1,
   "id": "1067b23a",
   "metadata": {},
   "outputs": [],
   "source": [
    "sample_string = \"Twinkle, twinkle, little star,How I wonder what you are!Up above the world so high,Like a diamond in the sky.Twinkle, twinkle, little star,How I wonder what you are!\""
   ]
  },
  {
   "cell_type": "code",
   "execution_count": 3,
   "id": "6c593059",
   "metadata": {},
   "outputs": [
    {
     "name": "stdout",
     "output_type": "stream",
     "text": [
      "Twinkle, twinkle, little star,\n",
      "\tHow I wonder what you are!\n",
      "\t\tUp above the world so high\n",
      "\t\tLike a diamond in the sky.\n",
      "Twinkle, twinkle, little star,\n",
      "\tHow I wonder what you are!\n"
     ]
    }
   ],
   "source": [
    "l1 = []\n",
    "first_length = sample_string.find(\"H\")\n",
    "first_string = sample_string[:first_length]  \n",
    "second_length = sample_string.find(\"!\")\n",
    "second_string = sample_string[first_length:second_length+1]\n",
    "third_length = sample_string.find('.')\n",
    "third_string = sample_string[second_length+1:third_length+1]\n",
    "l1.append(first_string)\n",
    "l1.append(second_string)\n",
    "l2 = third_string.split(',')\n",
    "l1.extend(l2)\n",
    "l1.append(l1[0])\n",
    "l1.append(l1[1])\n",
    "\n",
    "for i, words in enumerate(l1):\n",
    "    if i == 0 or i == 4:\n",
    "        print(words)\n",
    "    if i == 1 or i == 5:\n",
    "        print(\"\\t{}\".format(l1[1]))\n",
    "    if i == 2 or i == 3:\n",
    "        print(\"\\t\\t{}\".format(l1[i]))"
   ]
  },
  {
   "cell_type": "markdown",
   "id": "22a64f7f",
   "metadata": {},
   "source": [
    "# Q2: Write a Python program to get the Python version you are using"
   ]
  },
  {
   "cell_type": "code",
   "execution_count": 4,
   "id": "9f5c0cf0",
   "metadata": {},
   "outputs": [
    {
     "name": "stdout",
     "output_type": "stream",
     "text": [
      "Python version: 3.8.8\n"
     ]
    }
   ],
   "source": [
    "import platform\n",
    "print(\"Python version: {}\".format(platform.python_version()))"
   ]
  },
  {
   "cell_type": "markdown",
   "id": "738dc7e0",
   "metadata": {},
   "source": [
    "# Q3. Write a Python program to display the current date and time."
   ]
  },
  {
   "cell_type": "code",
   "execution_count": 5,
   "id": "01aea97d",
   "metadata": {},
   "outputs": [
    {
     "name": "stdout",
     "output_type": "stream",
     "text": [
      "Current Date: 29-12-2021\n",
      "Current Time: 13:57:46 PM\n"
     ]
    }
   ],
   "source": [
    "from datetime import datetime\n",
    "current_date = datetime.now()\n",
    "print(\"Current Date: {}\".format(current_date.strftime('%d-%m-%Y'))) \n",
    "print(\"Current Time: {}\".format(current_date.strftime('%H:%M:%S %p')))"
   ]
  },
  {
   "cell_type": "markdown",
   "id": "3b3e0192",
   "metadata": {},
   "source": [
    "# Q4. Write a Python program which accepts the radius of a circle from the user and compute the area."
   ]
  },
  {
   "cell_type": "code",
   "execution_count": 6,
   "id": "48582347",
   "metadata": {},
   "outputs": [
    {
     "name": "stdout",
     "output_type": "stream",
     "text": [
      "Enter any number for radius of circle: 2\n",
      "Area of the circle: 12.57\n"
     ]
    }
   ],
   "source": [
    "from math import pi\n",
    "radius = float(input(\"Enter any number for radius of circle: \"))\n",
    "print(\"Area of the circle: {:.2f}\".format(pi*radius**2))"
   ]
  },
  {
   "cell_type": "markdown",
   "id": "daeff09a",
   "metadata": {},
   "source": [
    "# Q5. Write a Python program which accepts the user's first and last name and print them in reverse order with a space between them."
   ]
  },
  {
   "cell_type": "code",
   "execution_count": 7,
   "id": "8b0f18a0",
   "metadata": {},
   "outputs": [
    {
     "name": "stdout",
     "output_type": "stream",
     "text": [
      "Enter your first name: Sameer\n",
      "Enter your last name: Jehan\n",
      "Full Name: Sameer Jehan\n",
      "Full Name Reversed: naheJ reemaS\n"
     ]
    }
   ],
   "source": [
    "first_name = input(\"Enter your first name: \")\n",
    "last_name = input(\"Enter your last name: \")\n",
    "full_name = first_name + \" \" + last_name \n",
    "print(\"Full Name: {}\".format(full_name))\n",
    "reversed_string = full_name[len(full_name)::-1]\n",
    "print(\"Full Name Reversed: {}\" .format(reversed_string))"
   ]
  },
  {
   "cell_type": "markdown",
   "id": "a1b75fbe",
   "metadata": {},
   "source": [
    "# Q6. Write a python program which takes two inputs from user and print them addition"
   ]
  },
  {
   "cell_type": "code",
   "execution_count": 9,
   "id": "c2a3ca2c",
   "metadata": {},
   "outputs": [
    {
     "name": "stdout",
     "output_type": "stream",
     "text": [
      "Enter your first number: 2.5\n",
      "Enter your second number: 3\n",
      "Sum: 5.5\n"
     ]
    }
   ],
   "source": [
    "first_number = eval(input(\"Enter your first number: \"))\n",
    "second_number = eval(input(\"Enter your second number: \"))\n",
    "total = first_number + second_number\n",
    "print(\"Sum: {}\".format(total))"
   ]
  }
 ],
 "metadata": {
  "kernelspec": {
   "display_name": "Python 3",
   "language": "python",
   "name": "python3"
  },
  "language_info": {
   "codemirror_mode": {
    "name": "ipython",
    "version": 3
   },
   "file_extension": ".py",
   "mimetype": "text/x-python",
   "name": "python",
   "nbconvert_exporter": "python",
   "pygments_lexer": "ipython3",
   "version": "3.8.8"
  }
 },
 "nbformat": 4,
 "nbformat_minor": 5
}
